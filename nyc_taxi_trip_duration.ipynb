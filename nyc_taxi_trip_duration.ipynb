{
 "cells": [
  {
   "cell_type": "code",
   "execution_count": 1,
   "metadata": {},
   "outputs": [],
   "source": [
    "import numpy as np\n",
    "import pandas as pd\n",
    "import matplotlib.pyplot as plt\n",
    "import seaborn as sns\n",
    "import datetime\n",
    "sns.set()"
   ]
  },
  {
   "cell_type": "code",
   "execution_count": null,
   "metadata": {},
   "outputs": [],
   "source": [
    "df=pd.read_csv('nyc_taxi_trip_duration.csv')\n"
   ]
  },
  {
   "cell_type": "code",
   "execution_count": null,
   "metadata": {},
   "outputs": [],
   "source": [
    "df.shape"
   ]
  },
  {
   "cell_type": "code",
   "execution_count": null,
   "metadata": {},
   "outputs": [],
   "source": [
    "df.columns"
   ]
  },
  {
   "cell_type": "code",
   "execution_count": null,
   "metadata": {},
   "outputs": [],
   "source": [
    "df.dtypes"
   ]
  },
  {
   "cell_type": "code",
   "execution_count": null,
   "metadata": {},
   "outputs": [],
   "source": [
    "df.head()\n"
   ]
  },
  {
   "cell_type": "code",
   "execution_count": null,
   "metadata": {},
   "outputs": [],
   "source": [
    "df.describe()"
   ]
  },
  {
   "cell_type": "code",
   "execution_count": null,
   "metadata": {},
   "outputs": [],
   "source": [
    "non_num_cols=['id','pickup_datetime','dropoff_datetime','store_and_fwd_flag']\n",
    "print(df[non_num_cols].count()"
   ]
  },
  {
   "cell_type": "code",
   "execution_count": null,
   "metadata": {},
   "outputs": [],
   "source": [
    "df['pickup_datetime']=pd.to_datetime(df['pickup_datetime'])\n",
    "df['dropoff_datetime']=pd.to_datetime(df['dropoff_datetime'])"
   ]
  },
  {
   "cell_type": "code",
   "execution_count": null,
   "metadata": {},
   "outputs": [],
   "source": [
    "sns.distplot(df['passenger_count'],kde=False)\n",
    "plt.title('Distribution of Passenger Count')\n",
    "plt.show()"
   ]
  },
  {
   "cell_type": "code",
   "execution_count": null,
   "metadata": {},
   "outputs": [],
   "source": [
    "df['pickup_datetime'].nunique()\n",
    "df['dropoff_datetime'].nunique()"
   ]
  },
  {
   "cell_type": "code",
   "execution_count": null,
   "metadata": {},
   "outputs": [],
   "source": [
    "df['pickup_day']=df['pickup_datetime'].dt.day_name()\n",
    "df['dropoff_day']=df['dropoff_datetime'].dt.day_name()"
   ]
  },
  {
   "cell_type": "code",
   "execution_count": null,
   "metadata": {},
   "outputs": [],
   "source": [
    "df['pickup_day'].value_counts()"
   ]
  },
  {
   "cell_type": "code",
   "execution_count": null,
   "metadata": {},
   "outputs": [],
   "source": [
    "df['dropoff_day'].value_counts()"
   ]
  },
  {
   "cell_type": "code",
   "execution_count": null,
   "metadata": {},
   "outputs": [],
   "source": [
    "figure,ax=plt.subplots(nrows=2,ncols=1,figsize=(10,10))\n",
    "sns.countplot(x='pickup_day',data=df,ax=ax[0])\n",
    "ax[0].set_title('Number of Pickups done on each day of the week')\n",
    "sns.countplot(x='dropoff_day',data=df,ax=ax[1])\n",
    "ax[1].set_title('Number of dropoffs done on each day of the week')\n",
    "plt.tight_layout()"
   ]
  },
  {
   "cell_type": "code",
   "execution_count": null,
   "metadata": {},
   "outputs": [],
   "source": [
    "def timezone(x):\n",
    "    if x>=datetime.time(4, 0, 1) and x <=datetime.time(10, 0, 0):\n",
    "        return 'morning'\n",
    "    elif x>=datetime.time(10, 0, 1) and x <=datetime.time(16, 0, 0):\n",
    "        return 'midday'\n",
    "    elif x>=datetime.time(16, 0, 1) and x <=datetime.time(22, 0, 0):\n",
    "        return 'evening'\n",
    "    elif x>=datetime.time(22, 0, 1) or x <=datetime.time(4, 0, 0):\n",
    "        return 'late night'\n",
    "    \n",
    "df['pickup_timezone']=df['pickup_datetime'].apply(lambda x :timezone(datetime.datetime.strptime(str(x), \"%Y-%m-%d %H:%M:%S\").time()) )\n",
    "df['dropoff_timezone']=df['dropoff_datetime'].apply(lambda x :timezone(datetime.datetime.strptime(str(x), \"%Y-%m-%d %H:%M:%S\").time()) )"
   ]
  },
  {
   "cell_type": "code",
   "execution_count": null,
   "metadata": {},
   "outputs": [],
   "source": [
    "figure,ax=plt.subplots(nrows=1,ncols=2,figsize=(10,5))\n",
    "sns.countplot(x='pickup_timezone',data=df,ax=ax[0])\n",
    "ax[0].set_title('The distribution of number of pickups on each part of the day')\n",
    "sns.countplot(x='dropoff_timezone',data=df,ax=ax[1])\n",
    "ax[1].set_title('The distribution of number of dropoffs on each part of the day')\n",
    "plt.tight_layout()"
   ]
  },
  {
   "cell_type": "code",
   "execution_count": null,
   "metadata": {},
   "outputs": [],
   "source": [
    "figure,ax=plt.subplots(nrows=1,ncols=2,figsize=(10,5))\n",
    "df['pickup_hour']=df['pickup_datetime'].dt.hour\n",
    "df.pickup_hour.hist(bins=24,ax=ax[0])\n",
    "ax[0].set_title('Distribution of pickup hours')\n",
    "df['dropoff_hour']=df['dropoff_datetime'].dt.hour\n",
    "df.dropoff_hour.hist(bins=24,ax=ax[1])\n",
    "ax[1].set_title('Distribution of dropoff hours')"
   ]
  },
  {
   "cell_type": "code",
   "execution_count": null,
   "metadata": {},
   "outputs": [],
   "source": [
    "df['store_and_fwd_flag'].value_counts()"
   ]
  },
  {
   "cell_type": "code",
   "execution_count": null,
   "metadata": {},
   "outputs": [],
   "source": [
    "sns.distplot(df['trip_duration'],kde=False)\n",
    "plt.title('The distribution of of the Pick Up  Duration distribution')"
   ]
  },
  {
   "cell_type": "code",
   "execution_count": null,
   "metadata": {},
   "outputs": [],
   "source": [
    "ns.boxplot(df['trip_duration'], orient='horizontal')\n",
    "plt.title('A boxplot depicting the pickup duration distribution')"
   ]
  },
  {
   "cell_type": "code",
   "execution_count": null,
   "metadata": {},
   "outputs": [],
   "source": [
    "print( df['trip_duration'].nlargest(10))\n"
   ]
  },
  {
   "cell_type": "code",
   "execution_count": null,
   "metadata": {},
   "outputs": [],
   "source": [
    "df=df[df.trip_duration!=df.trip_duration.max()]"
   ]
  },
  {
   "cell_type": "code",
   "execution_count": null,
   "metadata": {},
   "outputs": [],
   "source": [
    "sns.distplot(df['trip_duration'])\n",
    "plt.title('Distribution of the pickup ditribution after the treatment of outliers')\n"
   ]
  },
  {
   "cell_type": "code",
   "execution_count": null,
   "metadata": {},
   "outputs": [],
   "source": [
    "bins=np.array([0,1800,3600,5400,7200,90000])\n",
    "df['duration_time']=pd.cut(df.trip_duration,bins,labels=[\"< 5\", \"5-10\", \"10-15\",\"15-20\",\">20\"])"
   ]
  },
  {
   "cell_type": "code",
   "execution_count": null,
   "metadata": {},
   "outputs": [],
   "source": [
    "sns.distplot(df['pickup_longitude'])\n",
    "plt.title('The distribution of Pick up Longitude')"
   ]
  },
  {
   "cell_type": "code",
   "execution_count": null,
   "metadata": {},
   "outputs": [],
   "source": [
    "sns.distplot(df['dropoff_latitude'])\n",
    "plt.title('The distribution of drop off Latitude')"
   ]
  },
  {
   "cell_type": "code",
   "execution_count": null,
   "metadata": {},
   "outputs": [],
   "source": [
    "sns.distplot(df['pickup_latitude'])\n",
    "plt.title('The distribution of pick up Latitude')\n"
   ]
  },
  {
   "cell_type": "code",
   "execution_count": null,
   "metadata": {},
   "outputs": [],
   "source": [
    "sns.catplot(x=\"pickup_day\",y=\"trip_duration\",kind=\"bar\",data=df,height=6,aspect=1)\n",
    "plt.title('The Average Trip Duration per PickUp Day of the week')\n",
    "sns.catplot(x=\"dropoff_day\",y=\"trip_duration\",kind=\"bar\",data=df,height=6,aspect=1)\n",
    "plt.title('The Average Trip Duration per Dropoff Day of the week')"
   ]
  },
  {
   "cell_type": "code",
   "execution_count": null,
   "metadata": {},
   "outputs": [],
   "source": [
    "ax1=df.groupby('pickup_day')['duration_time'].value_counts(normalize=True).unstack()\n",
    "ax1.plot(kind='bar', stacked='True')\n",
    "plt.title('The Distribution of percentage of different duration of trips')"
   ]
  },
  {
   "cell_type": "code",
   "execution_count": null,
   "metadata": {},
   "outputs": [],
   "source": [
    "figure,ax=plt.subplots(nrows=1,ncols=3,figsize=(15,5))\n",
    "ax1=df[(df.duration_time !=\"< 5\")].groupby('pickup_day')['duration_time'].count()\n",
    "ax1.plot(kind='bar',ax=ax[0])\n",
    "ax[0].set_title('Distribution of trips > 5 hours')\n",
    "ax2=df[(df.duration_time !=\"< 5\")].groupby('pickup_day')['duration_time'].value_counts(normalize=True).unstack()\n",
    "ax2.plot(kind='bar', stacked='True',ax=ax[1])\n",
    "ax[1].set_title('Percentage distribution of trips > 5 hours')\n",
    "ax3=df[(df.duration_time !=\"< 5\")].groupby('pickup_day')['duration_time'].value_counts().unstack()\n",
    "ax3.plot(kind='bar',ax=ax[2])\n",
    "ax[2].set_title('A compared distribution of trips > 5 hours')"
   ]
  },
  {
   "cell_type": "code",
   "execution_count": null,
   "metadata": {},
   "outputs": [],
   "source": [
    "figure,(ax1,ax2)=plt.subplots(ncols=2,figsize=(20,5))\n",
    "ax1.set_title('Distribution of pickup hours')\n",
    "ax=sns.catplot(x=\"pickup_hour\", y=\"trip_duration\",kind=\"bar\",data=df,ax=ax1)\n",
    "ax2.set_title('Distribution of dropoff hours')\n",
    "ax=sns.catplot(x=\"dropoff_hour\", y=\"trip_duration\",kind=\"bar\",data=df,ax=ax2)\n",
    "plt.show()\n"
   ]
  },
  {
   "cell_type": "code",
   "execution_count": null,
   "metadata": {},
   "outputs": [],
   "source": [
    "sns.relplot(x=\"passenger_count\", y=\"trip_duration\", data=df, kind=\"scatter\")\n"
   ]
  },
  {
   "cell_type": "code",
   "execution_count": null,
   "metadata": {},
   "outputs": [],
   "source": [
    "sns.catplot(x=\"vendor_id\", y=\"trip_duration\",kind=\"strip\",data=df)\n"
   ]
  },
  {
   "cell_type": "code",
   "execution_count": null,
   "metadata": {},
   "outputs": [],
   "source": [
    "sns.catplot(x=\"store_and_fwd_flag\", y=\"trip_duration\",kind=\"strip\",data=df)"
   ]
  },
  {
   "cell_type": "code",
   "execution_count": null,
   "metadata": {},
   "outputs": [],
   "source": [
    "sns.relplot(x=\"pickup_latitude\", y=\"dropoff_latitude\",hue='pickup_timezone',row='duration_time',data=df);\n"
   ]
  },
  {
   "cell_type": "code",
   "execution_count": null,
   "metadata": {},
   "outputs": [],
   "source": [
    "sns.relplot(x=\"pickup_longitude\", y=\"dropoff_longitude\",hue='pickup_timezone',row='duration_time',data=df);"
   ]
  }
 ],
 "metadata": {
  "kernelspec": {
   "display_name": "Python 3",
   "language": "python",
   "name": "python3"
  },
  "language_info": {
   "codemirror_mode": {
    "name": "ipython",
    "version": 3
   },
   "file_extension": ".py",
   "mimetype": "text/x-python",
   "name": "python",
   "nbconvert_exporter": "python",
   "pygments_lexer": "ipython3",
   "version": "3.7.3"
  }
 },
 "nbformat": 4,
 "nbformat_minor": 2
}
